{
 "cells": [
  {
   "cell_type": "markdown",
   "metadata": {},
   "source": [
    "# CURSO DATA SCIENCE"
   ]
  },
  {
   "cell_type": "markdown",
   "metadata": {},
   "source": [
    "## Módulo 2: Análise Estatística e Exploratória de Dados"
   ]
  },
  {
   "cell_type": "markdown",
   "metadata": {},
   "source": [
    "### Aula 1 - Análise Estatística de Dados"
   ]
  },
  {
   "cell_type": "markdown",
   "metadata": {},
   "source": [
    "### Bootstrap"
   ]
  },
  {
   "cell_type": "markdown",
   "metadata": {},
   "source": [
    "#### Usando Bootstrap para estimar o valor da média de uma população:"
   ]
  },
  {
   "cell_type": "code",
   "execution_count": 1,
   "metadata": {},
   "outputs": [],
   "source": [
    "import pandas as pd\n",
    "import numpy as np\n",
    "import matplotlib.pyplot as plt\n",
    "import scipy.stats as stats\n",
    "import seaborn as sns\n",
    "import math\n",
    "import statsmodels.api as sm\n",
    "import pylab as py\n",
    "import random\n",
    "from plotnine import *"
   ]
  },
  {
   "cell_type": "code",
   "execution_count": 2,
   "metadata": {},
   "outputs": [
    {
     "data": {
      "text/plain": [
       "0.50221651918141"
      ]
     },
     "execution_count": 2,
     "metadata": {},
     "output_type": "execute_result"
    }
   ],
   "source": [
    "#Dados aleatórios seguindo uma distribuição Normal\n",
    "#x = np.random.normal(loc=500.0, scale=1.0, size=10000)\n",
    "\n",
    "#Dados aleatórios (sem seguir uma distribuição específica)\n",
    "x = np.random.random_sample(10000)\n",
    "\n",
    "#Média real da \"população\" (dataset)\n",
    "np.mean(x)"
   ]
  },
  {
   "cell_type": "code",
   "execution_count": 3,
   "metadata": {},
   "outputs": [],
   "source": [
    "sample_mean = []\n",
    "\n",
    "# Bootstrap sampling\n",
    "\n",
    "for i in range(40):\n",
    "    y = random.sample(x.tolist(), 5)\n",
    "    avg = np.mean(y)\n",
    "    \n",
    "    sample_mean.append(avg)"
   ]
  },
  {
   "cell_type": "code",
   "execution_count": 4,
   "metadata": {
    "scrolled": true
   },
   "outputs": [
    {
     "data": {
      "text/plain": [
       "[0.6088556144723583,\n",
       " 0.5913451849872874,\n",
       " 0.3819287339640073,\n",
       " 0.3915959538704322,\n",
       " 0.6400569949985633,\n",
       " 0.561936581361537,\n",
       " 0.8434314023807279,\n",
       " 0.5852879341791223,\n",
       " 0.20839418503971863,\n",
       " 0.6044626670702608,\n",
       " 0.4527545754761551,\n",
       " 0.5188069480519767,\n",
       " 0.4376771728199397,\n",
       " 0.49106408842554156,\n",
       " 0.40722670624085877,\n",
       " 0.4286976329485185,\n",
       " 0.6937436168494711,\n",
       " 0.533818954509057,\n",
       " 0.6106939933871569,\n",
       " 0.32565728252479864,\n",
       " 0.24950406924065022,\n",
       " 0.35754782843834537,\n",
       " 0.3530191517286029,\n",
       " 0.4163476593979416,\n",
       " 0.7003838902713866,\n",
       " 0.6259600448073409,\n",
       " 0.7577826196905285,\n",
       " 0.7129755325004288,\n",
       " 0.6550622132598317,\n",
       " 0.5730482386632145,\n",
       " 0.36295004556416155,\n",
       " 0.7821505802607442,\n",
       " 0.537016339448942,\n",
       " 0.6985693337992063,\n",
       " 0.5021748612884155,\n",
       " 0.48349180166724437,\n",
       " 0.5159985863086429,\n",
       " 0.6072349358945786,\n",
       " 0.3286149630379815,\n",
       " 0.6088555715155739]"
      ]
     },
     "execution_count": 4,
     "metadata": {},
     "output_type": "execute_result"
    }
   ],
   "source": [
    "sample_mean"
   ]
  },
  {
   "cell_type": "code",
   "execution_count": 5,
   "metadata": {
    "scrolled": true
   },
   "outputs": [
    {
     "data": {
      "text/plain": [
       "0.5286531122585313"
      ]
     },
     "execution_count": 5,
     "metadata": {},
     "output_type": "execute_result"
    }
   ],
   "source": [
    "#Média estimada usando Bootstrap\n",
    "np.mean(sample_mean)"
   ]
  },
  {
   "cell_type": "markdown",
   "metadata": {},
   "source": [
    "# Teorema do Limite Central"
   ]
  },
  {
   "cell_type": "markdown",
   "metadata": {},
   "source": [
    "### Gerando um novo conjunto de dados no intervalo de 1 a 100:"
   ]
  },
  {
   "cell_type": "code",
   "execution_count": 6,
   "metadata": {},
   "outputs": [],
   "source": [
    "x = []\n",
    "for i in range(10000):\n",
    "    x.append(random.randint(1, 100))"
   ]
  },
  {
   "cell_type": "code",
   "execution_count": 7,
   "metadata": {},
   "outputs": [
    {
     "data": {
      "text/plain": [
       "51.2081"
      ]
     },
     "execution_count": 7,
     "metadata": {},
     "output_type": "execute_result"
    }
   ],
   "source": [
    "np.mean(x)"
   ]
  },
  {
   "cell_type": "markdown",
   "metadata": {},
   "source": [
    "### Distribuição dos dados da população (dataset):"
   ]
  },
  {
   "cell_type": "code",
   "execution_count": 9,
   "metadata": {
    "scrolled": true
   },
   "outputs": [
    {
     "data": {
      "text/plain": [
       "100"
      ]
     },
     "execution_count": 9,
     "metadata": {},
     "output_type": "execute_result"
    }
   ],
   "source": [
    "k = int(math.sqrt(len(x)))\n",
    "k"
   ]
  },
  {
   "cell_type": "code",
   "execution_count": 10,
   "metadata": {},
   "outputs": [
    {
     "data": {
      "image/png": "[encoded data removed]",
      "text/plain": [
       "<Figure size 432x288 with 1 Axes>"
      ]
     },
     "metadata": {},
     "output_type": "display_data"
    }
   ],
   "source": [
    "plt.hist(x, bins=k) \n",
    "plt.show()"
   ]
  },
  {
   "cell_type": "markdown",
   "metadata": {},
   "source": [
    "### Aplicando o Teorema do Limite Central usando Bootstrap:"
   ]
  },
  {
   "cell_type": "code",
   "execution_count": 11,
   "metadata": {},
   "outputs": [],
   "source": [
    "sample_mean2 = []\n",
    "\n",
    "# Bootstrap sampling\n",
    "\n",
    "for i in range(40):\n",
    "    y = random.sample(x, 5)\n",
    "    avg = np.mean(y)\n",
    "    sample_mean2.append(np.round(avg,0))"
   ]
  },
  {
   "cell_type": "code",
   "execution_count": 12,
   "metadata": {
    "scrolled": false
   },
   "outputs": [
    {
     "data": {
      "text/plain": [
       "[31.0,\n",
       " 58.0,\n",
       " 61.0,\n",
       " 55.0,\n",
       " 48.0,\n",
       " 55.0,\n",
       " 68.0,\n",
       " 40.0,\n",
       " 61.0,\n",
       " 47.0,\n",
       " 44.0,\n",
       " 42.0,\n",
       " 69.0,\n",
       " 44.0,\n",
       " 50.0,\n",
       " 81.0,\n",
       " 37.0,\n",
       " 67.0,\n",
       " 67.0,\n",
       " 30.0,\n",
       " 42.0,\n",
       " 65.0,\n",
       " 85.0,\n",
       " 45.0,\n",
       " 50.0,\n",
       " 56.0,\n",
       " 77.0,\n",
       " 20.0,\n",
       " 45.0,\n",
       " 64.0,\n",
       " 41.0,\n",
       " 43.0,\n",
       " 62.0,\n",
       " 41.0,\n",
       " 47.0,\n",
       " 68.0,\n",
       " 81.0,\n",
       " 44.0,\n",
       " 37.0,\n",
       " 55.0]"
      ]
     },
     "execution_count": 12,
     "metadata": {},
     "output_type": "execute_result"
    }
   ],
   "source": [
    "sample_mean2"
   ]
  },
  {
   "cell_type": "markdown",
   "metadata": {},
   "source": [
    "### Distribuição das médias calculadas sobre as amostras:"
   ]
  },
  {
   "cell_type": "code",
   "execution_count": 13,
   "metadata": {},
   "outputs": [
    {
     "data": {
      "text/plain": [
       "6"
      ]
     },
     "execution_count": 13,
     "metadata": {},
     "output_type": "execute_result"
    }
   ],
   "source": [
    "k = int(math.sqrt(len(sample_mean2)))\n",
    "k"
   ]
  },
  {
   "cell_type": "code",
   "execution_count": 14,
   "metadata": {
    "scrolled": false
   },
   "outputs": [
    {
     "data": {
      "image/png": "[encoded data removed]",
      "text/plain": [
       "<Figure size 432x288 with 1 Axes>"
      ]
     },
     "metadata": {},
     "output_type": "display_data"
    }
   ],
   "source": [
    "plt.hist(sample_mean2, bins=k) \n",
    "plt.show()"
   ]
  },
  {
   "cell_type": "markdown",
   "metadata": {},
   "source": [
    "### Distribuição dos dados da população (dataset) usando Sturges:"
   ]
  },
  {
   "cell_type": "code",
   "execution_count": 15,
   "metadata": {},
   "outputs": [
    {
     "data": {
      "text/plain": [
       "15"
      ]
     },
     "execution_count": 15,
     "metadata": {},
     "output_type": "execute_result"
    }
   ],
   "source": [
    "k = math.ceil(1 + 3.3 * math.log10(len(x)))\n",
    "k"
   ]
  },
  {
   "cell_type": "code",
   "execution_count": 16,
   "metadata": {
    "scrolled": false
   },
   "outputs": [
    {
     "data": {
      "image/png": "[encoded data removed]",
      "text/plain": [
       "<Figure size 432x288 with 1 Axes>"
      ]
     },
     "metadata": {},
     "output_type": "display_data"
    }
   ],
   "source": [
    "plt.hist(x, bins=k) \n",
    "plt.show()"
   ]
  },
  {
   "cell_type": "markdown",
   "metadata": {},
   "source": [
    "### Distribuição das médias calculadas sobre as amostras (usando Sturges):"
   ]
  },
  {
   "cell_type": "code",
   "execution_count": 17,
   "metadata": {},
   "outputs": [
    {
     "data": {
      "text/plain": [
       "7"
      ]
     },
     "execution_count": 17,
     "metadata": {},
     "output_type": "execute_result"
    }
   ],
   "source": [
    "k = math.ceil(1 + 3.3 * math.log10(len(sample_mean2)))\n",
    "k"
   ]
  },
  {
   "cell_type": "code",
   "execution_count": 18,
   "metadata": {},
   "outputs": [
    {
     "data": {
      "image/png": "[encoded data removed]",
      "text/plain": [
       "<Figure size 432x288 with 1 Axes>"
      ]
     },
     "metadata": {},
     "output_type": "display_data"
    }
   ],
   "source": [
    "plt.hist(sample_mean2, bins=k) \n",
    "plt.show()"
   ]
  },
  {
   "cell_type": "markdown",
   "metadata": {},
   "source": [
    "# Distribuição Normal"
   ]
  },
  {
   "cell_type": "raw",
   "metadata": {},
   "source": [
    "** Dataset \"Houseflt Wings Length\" (disponível em https://seattlecentral.edu/qelp/sets/057/057.html) **\n"
   ]
  },
  {
   "cell_type": "code",
   "execution_count": 38,
   "metadata": {},
   "outputs": [],
   "source": [
    "housefly_df = pd.DataFrame(data=[36,37,38,38,39,39,40,40,40,40,41,41,41,41,41,41,42,42,42,42,42,42,42,43,\n",
    "43,43,43,43,43,43,43,44,44,44,44,44,44,44,44,44,45,45,45,45,45,45,45,45,45,45,46,46,46,46,46,46,46,46,46,\n",
    "46,47,47,47,47,47,47,47,47,47,48,48,48,48,48,48,48,48,49,49,49,49,49,49,49,50,50,50,50,50,50,51,51,51,51,\n",
    "52,52,53,53,54,55])"
   ]
  },
  {
   "cell_type": "code",
   "execution_count": 39,
   "metadata": {
    "scrolled": false
   },
   "outputs": [
    {
     "data": {
      "text/html": [
       "<div>\n",
       "<style scoped>\n",
       "    .dataframe tbody tr th:only-of-type {\n",
       "        vertical-align: middle;\n",
       "    }\n",
       "\n",
       "    .dataframe tbody tr th {\n",
       "        vertical-align: top;\n",
       "    }\n",
       "\n",
       "    .dataframe thead th {\n",
       "        text-align: right;\n",
       "    }\n",
       "</style>\n",
       "<table border=\"1\" class=\"dataframe\">\n",
       "  <thead>\n",
       "    <tr style=\"text-align: right;\">\n",
       "      <th></th>\n",
       "      <th>0</th>\n",
       "      <th>Fabs</th>\n",
       "    </tr>\n",
       "  </thead>\n",
       "  <tbody>\n",
       "    <tr>\n",
       "      <th>0</th>\n",
       "      <td>36</td>\n",
       "      <td>1</td>\n",
       "    </tr>\n",
       "    <tr>\n",
       "      <th>1</th>\n",
       "      <td>37</td>\n",
       "      <td>1</td>\n",
       "    </tr>\n",
       "    <tr>\n",
       "      <th>2</th>\n",
       "      <td>38</td>\n",
       "      <td>2</td>\n",
       "    </tr>\n",
       "    <tr>\n",
       "      <th>3</th>\n",
       "      <td>39</td>\n",
       "      <td>2</td>\n",
       "    </tr>\n",
       "    <tr>\n",
       "      <th>4</th>\n",
       "      <td>40</td>\n",
       "      <td>4</td>\n",
       "    </tr>\n",
       "    <tr>\n",
       "      <th>5</th>\n",
       "      <td>41</td>\n",
       "      <td>6</td>\n",
       "    </tr>\n",
       "    <tr>\n",
       "      <th>6</th>\n",
       "      <td>42</td>\n",
       "      <td>7</td>\n",
       "    </tr>\n",
       "    <tr>\n",
       "      <th>7</th>\n",
       "      <td>43</td>\n",
       "      <td>8</td>\n",
       "    </tr>\n",
       "    <tr>\n",
       "      <th>8</th>\n",
       "      <td>44</td>\n",
       "      <td>9</td>\n",
       "    </tr>\n",
       "    <tr>\n",
       "      <th>9</th>\n",
       "      <td>45</td>\n",
       "      <td>10</td>\n",
       "    </tr>\n",
       "    <tr>\n",
       "      <th>10</th>\n",
       "      <td>46</td>\n",
       "      <td>10</td>\n",
       "    </tr>\n",
       "    <tr>\n",
       "      <th>11</th>\n",
       "      <td>47</td>\n",
       "      <td>9</td>\n",
       "    </tr>\n",
       "    <tr>\n",
       "      <th>12</th>\n",
       "      <td>48</td>\n",
       "      <td>8</td>\n",
       "    </tr>\n",
       "    <tr>\n",
       "      <th>13</th>\n",
       "      <td>49</td>\n",
       "      <td>7</td>\n",
       "    </tr>\n",
       "    <tr>\n",
       "      <th>14</th>\n",
       "      <td>50</td>\n",
       "      <td>6</td>\n",
       "    </tr>\n",
       "    <tr>\n",
       "      <th>15</th>\n",
       "      <td>51</td>\n",
       "      <td>4</td>\n",
       "    </tr>\n",
       "    <tr>\n",
       "      <th>16</th>\n",
       "      <td>52</td>\n",
       "      <td>2</td>\n",
       "    </tr>\n",
       "    <tr>\n",
       "      <th>17</th>\n",
       "      <td>53</td>\n",
       "      <td>2</td>\n",
       "    </tr>\n",
       "    <tr>\n",
       "      <th>18</th>\n",
       "      <td>54</td>\n",
       "      <td>1</td>\n",
       "    </tr>\n",
       "    <tr>\n",
       "      <th>19</th>\n",
       "      <td>55</td>\n",
       "      <td>1</td>\n",
       "    </tr>\n",
       "  </tbody>\n",
       "</table>\n",
       "</div>"
      ],
      "text/plain": [
       "     0  Fabs\n",
       "0   36     1\n",
       "1   37     1\n",
       "2   38     2\n",
       "3   39     2\n",
       "4   40     4\n",
       "5   41     6\n",
       "6   42     7\n",
       "7   43     8\n",
       "8   44     9\n",
       "9   45    10\n",
       "10  46    10\n",
       "11  47     9\n",
       "12  48     8\n",
       "13  49     7\n",
       "14  50     6\n",
       "15  51     4\n",
       "16  52     2\n",
       "17  53     2\n",
       "18  54     1\n",
       "19  55     1"
      ]
     },
     "execution_count": 39,
     "metadata": {},
     "output_type": "execute_result"
    }
   ],
   "source": [
    "# Distribuição de Frequência\n",
    "freq_df = housefly_df.groupby([0]).size().reset_index(name='Fabs')\n",
    "freq_df"
   ]
  },
  {
   "cell_type": "code",
   "execution_count": 40,
   "metadata": {
    "scrolled": true
   },
   "outputs": [],
   "source": [
    "length = freq_df[0]\n",
    "labels = freq_df['Fabs']"
   ]
  },
  {
   "cell_type": "code",
   "execution_count": 41,
   "metadata": {
    "scrolled": false
   },
   "outputs": [
    {
     "data": {
      "image/png": "[encoded data removed]",
      "text/plain": [
       "<Figure size 640x480 with 1 Axes>"
      ]
     },
     "metadata": {},
     "output_type": "display_data"
    },
    {
     "data": {
      "text/plain": [
       "<ggplot: (8793530724928)>"
      ]
     },
     "execution_count": 41,
     "metadata": {},
     "output_type": "execute_result"
    }
   ],
   "source": [
    "(ggplot(freq_df, aes(freq_df[0],'Fabs'))\n",
    "  + geom_col(fill='red')\n",
    "  + scale_x_continuous(breaks=length, labels=labels)\n",
    "  + theme_light()\n",
    "  + xlab('Comprimento')\n",
    "  + ylab('Frequência')\n",
    ")"
   ]
  },
  {
   "cell_type": "markdown",
   "metadata": {},
   "source": [
    "### Usando matplotlib"
   ]
  },
  {
   "cell_type": "markdown",
   "metadata": {},
   "source": [
    "### Fórmula de Sturges"
   ]
  },
  {
   "cell_type": "code",
   "execution_count": 42,
   "metadata": {},
   "outputs": [
    {
     "data": {
      "text/plain": [
       "8"
      ]
     },
     "execution_count": 42,
     "metadata": {},
     "output_type": "execute_result"
    }
   ],
   "source": [
    "k = math.ceil(1 + 3.3 * math.log10( housefly_df.size ))\n",
    "k"
   ]
  },
  {
   "cell_type": "code",
   "execution_count": 43,
   "metadata": {
    "scrolled": true
   },
   "outputs": [
    {
     "data": {
      "image/png": "[encoded data removed]",
      "text/plain": [
       "<Figure size 432x288 with 1 Axes>"
      ]
     },
     "metadata": {},
     "output_type": "display_data"
    }
   ],
   "source": [
    "import matplotlib.pyplot as plt\n",
    "plt.hist(housefly_df[0], bins=k) \n",
    "plt.show()"
   ]
  },
  {
   "cell_type": "markdown",
   "metadata": {},
   "source": [
    "Sturges não gerou uma distribuição conhecida"
   ]
  },
  {
   "cell_type": "markdown",
   "metadata": {},
   "source": [
    "### Raiz de n"
   ]
  },
  {
   "cell_type": "code",
   "execution_count": 44,
   "metadata": {},
   "outputs": [
    {
     "data": {
      "text/plain": [
       "10"
      ]
     },
     "execution_count": 44,
     "metadata": {},
     "output_type": "execute_result"
    }
   ],
   "source": [
    "k = int(math.sqrt( housefly_df.size ))\n",
    "k"
   ]
  },
  {
   "cell_type": "code",
   "execution_count": 45,
   "metadata": {
    "scrolled": true
   },
   "outputs": [
    {
     "data": {
      "image/png": "[encoded data removed]",
      "text/plain": [
       "<Figure size 432x288 with 1 Axes>"
      ]
     },
     "metadata": {},
     "output_type": "display_data"
    }
   ],
   "source": [
    "plt.hist(housefly_df[0], bins=k) \n",
    "plt.show()"
   ]
  },
  {
   "cell_type": "markdown",
   "metadata": {},
   "source": [
    "## Boxplot"
   ]
  },
  {
   "cell_type": "code",
   "execution_count": 46,
   "metadata": {},
   "outputs": [
    {
     "data": {
      "text/plain": [
       "<AxesSubplot:>"
      ]
     },
     "execution_count": 46,
     "metadata": {},
     "output_type": "execute_result"
    },
    {
     "data": {
      "image/png": "[encoded data removed]",
      "text/plain": [
       "<Figure size 576x576 with 1 Axes>"
      ]
     },
     "metadata": {},
     "output_type": "display_data"
    }
   ],
   "source": [
    "housefly_df.boxplot(column=[0], fontsize='large', figsize=(8,8))"
   ]
  },
  {
   "cell_type": "markdown",
   "metadata": {},
   "source": [
    "### Aplicando normalização Z-Score no Dataset"
   ]
  },
  {
   "cell_type": "markdown",
   "metadata": {},
   "source": [
    "O Dataset agora comporta-se de forma contínua!"
   ]
  },
  {
   "cell_type": "raw",
   "metadata": {},
   "source": [
    "Normalização/Padronização dos dados\n",
    "● Os dados disponíveis podem estar em escalas muito diferentes. ○ Idade, altura, peso, salário etc.\n",
    "● Usualmente é recomendado colocar os dados (de entrada e saída) em uma escala comum;\n",
    "● Evitar que o algoritmo fique enviesado para as variáveis com maior ordem de grandeza;"
   ]
  },
  {
   "cell_type": "code",
   "execution_count": null,
   "metadata": {},
   "outputs": [],
   "source": [
    "Padronização Z-Score\n",
    "● Forçar média 0 e variância unitária (o que é chamado tamém de padronização ou\n",
    "standardization);\n",
    "● Para uma população: z = (x - mi) / DP população\n",
    "● Para uma amostra: z = (x - xbarra) / DP amostra"
   ]
  },
  {
   "cell_type": "code",
   "execution_count": 47,
   "metadata": {
    "scrolled": true
   },
   "outputs": [
    {
     "data": {
      "text/plain": [
       "array([[-2.43589744],\n",
       "       [-2.17948718],\n",
       "       [-1.92307692],\n",
       "       [-1.92307692],\n",
       "       [-1.66666667],\n",
       "       [-1.66666667],\n",
       "       [-1.41025641],\n",
       "       [-1.41025641],\n",
       "       [-1.41025641],\n",
       "       [-1.41025641],\n",
       "       [-1.15384615],\n",
       "       [-1.15384615],\n",
       "       [-1.15384615],\n",
       "       [-1.15384615],\n",
       "       [-1.15384615],\n",
       "       [-1.15384615],\n",
       "       [-0.8974359 ],\n",
       "       [-0.8974359 ],\n",
       "       [-0.8974359 ],\n",
       "       [-0.8974359 ],\n",
       "       [-0.8974359 ],\n",
       "       [-0.8974359 ],\n",
       "       [-0.8974359 ],\n",
       "       [-0.64102564],\n",
       "       [-0.64102564],\n",
       "       [-0.64102564],\n",
       "       [-0.64102564],\n",
       "       [-0.64102564],\n",
       "       [-0.64102564],\n",
       "       [-0.64102564],\n",
       "       [-0.64102564],\n",
       "       [-0.38461538],\n",
       "       [-0.38461538],\n",
       "       [-0.38461538],\n",
       "       [-0.38461538],\n",
       "       [-0.38461538],\n",
       "       [-0.38461538],\n",
       "       [-0.38461538],\n",
       "       [-0.38461538],\n",
       "       [-0.38461538],\n",
       "       [-0.12820513],\n",
       "       [-0.12820513],\n",
       "       [-0.12820513],\n",
       "       [-0.12820513],\n",
       "       [-0.12820513],\n",
       "       [-0.12820513],\n",
       "       [-0.12820513],\n",
       "       [-0.12820513],\n",
       "       [-0.12820513],\n",
       "       [-0.12820513],\n",
       "       [ 0.12820513],\n",
       "       [ 0.12820513],\n",
       "       [ 0.12820513],\n",
       "       [ 0.12820513],\n",
       "       [ 0.12820513],\n",
       "       [ 0.12820513],\n",
       "       [ 0.12820513],\n",
       "       [ 0.12820513],\n",
       "       [ 0.12820513],\n",
       "       [ 0.12820513],\n",
       "       [ 0.38461538],\n",
       "       [ 0.38461538],\n",
       "       [ 0.38461538],\n",
       "       [ 0.38461538],\n",
       "       [ 0.38461538],\n",
       "       [ 0.38461538],\n",
       "       [ 0.38461538],\n",
       "       [ 0.38461538],\n",
       "       [ 0.38461538],\n",
       "       [ 0.64102564],\n",
       "       [ 0.64102564],\n",
       "       [ 0.64102564],\n",
       "       [ 0.64102564],\n",
       "       [ 0.64102564],\n",
       "       [ 0.64102564],\n",
       "       [ 0.64102564],\n",
       "       [ 0.64102564],\n",
       "       [ 0.8974359 ],\n",
       "       [ 0.8974359 ],\n",
       "       [ 0.8974359 ],\n",
       "       [ 0.8974359 ],\n",
       "       [ 0.8974359 ],\n",
       "       [ 0.8974359 ],\n",
       "       [ 0.8974359 ],\n",
       "       [ 1.15384615],\n",
       "       [ 1.15384615],\n",
       "       [ 1.15384615],\n",
       "       [ 1.15384615],\n",
       "       [ 1.15384615],\n",
       "       [ 1.15384615],\n",
       "       [ 1.41025641],\n",
       "       [ 1.41025641],\n",
       "       [ 1.41025641],\n",
       "       [ 1.41025641],\n",
       "       [ 1.66666667],\n",
       "       [ 1.66666667],\n",
       "       [ 1.92307692],\n",
       "       [ 1.92307692],\n",
       "       [ 2.17948718],\n",
       "       [ 2.43589744]])"
      ]
     },
     "execution_count": 47,
     "metadata": {},
     "output_type": "execute_result"
    }
   ],
   "source": [
    "housefly_z_df = stats.zscore(housefly_df)\n",
    "housefly_z_df"
   ]
  },
  {
   "cell_type": "code",
   "execution_count": 48,
   "metadata": {
    "scrolled": false
   },
   "outputs": [
    {
     "data": {
      "image/png": "[encoded data removed]",
      "text/plain": [
       "<Figure size 432x288 with 1 Axes>"
      ]
     },
     "metadata": {},
     "output_type": "display_data"
    }
   ],
   "source": [
    "plt.hist(housefly_z_df) \n",
    "plt.show()"
   ]
  },
  {
   "cell_type": "markdown",
   "metadata": {},
   "source": [
    "##  QQ-Plot"
   ]
  },
  {
   "cell_type": "raw",
   "metadata": {},
   "source": [
    "Uma possível técnica para verificar se a distribuição dos dados segue a normal.\n",
    "Olhar a concentração dos dados no intervalo em -1 e 1.\n",
    "Os dados precisam estar normalizados em Z-Score.\n",
    "Não é muito utilizada pois depende de uma análise visual e subjetiva.\n",
    "Atualmente existem técnicas mais robustas."
   ]
  },
  {
   "cell_type": "code",
   "execution_count": 49,
   "metadata": {},
   "outputs": [
    {
     "data": {
      "image/png": "[encoded data removed]",
      "text/plain": [
       "<Figure size 432x288 with 1 Axes>"
      ]
     },
     "metadata": {},
     "output_type": "display_data"
    }
   ],
   "source": [
    "sm.qqplot(housefly_z_df, line ='45') \n",
    "py.show() "
   ]
  },
  {
   "cell_type": "markdown",
   "metadata": {},
   "source": [
    "# Transformação Logarítmica"
   ]
  },
  {
   "cell_type": "raw",
   "metadata": {},
   "source": [
    "Download dataset: https://www.kaggle.com/shivam2503/diamonds"
   ]
  },
  {
   "cell_type": "raw",
   "metadata": {},
   "source": [
    "Técnica para tentar transformar dados que não possuem uma distribuição normal em um outro conjunto de dados que possua uma distribuição normal ou próxima da normal.\n",
    "É uma tentativa. As vezes funciona.\n",
    "Quanto mais os dados estiverem concentrados seguindo uma reta (linear) mais próximo os dados estão de uma distribuição normal."
   ]
  },
  {
   "cell_type": "code",
   "execution_count": 50,
   "metadata": {},
   "outputs": [],
   "source": [
    "file = pd.read_csv('diamonds.csv')"
   ]
  },
  {
   "cell_type": "code",
   "execution_count": 51,
   "metadata": {
    "scrolled": false
   },
   "outputs": [
    {
     "data": {
      "text/html": [
       "<div>\n",
       "<style scoped>\n",
       "    .dataframe tbody tr th:only-of-type {\n",
       "        vertical-align: middle;\n",
       "    }\n",
       "\n",
       "    .dataframe tbody tr th {\n",
       "        vertical-align: top;\n",
       "    }\n",
       "\n",
       "    .dataframe thead th {\n",
       "        text-align: right;\n",
       "    }\n",
       "</style>\n",
       "<table border=\"1\" class=\"dataframe\">\n",
       "  <thead>\n",
       "    <tr style=\"text-align: right;\">\n",
       "      <th></th>\n",
       "      <th>Unnamed: 0</th>\n",
       "      <th>carat</th>\n",
       "      <th>cut</th>\n",
       "      <th>color</th>\n",
       "      <th>clarity</th>\n",
       "      <th>depth</th>\n",
       "      <th>table</th>\n",
       "      <th>price</th>\n",
       "      <th>x</th>\n",
       "      <th>y</th>\n",
       "      <th>z</th>\n",
       "    </tr>\n",
       "  </thead>\n",
       "  <tbody>\n",
       "    <tr>\n",
       "      <th>0</th>\n",
       "      <td>1</td>\n",
       "      <td>0.23</td>\n",
       "      <td>Ideal</td>\n",
       "      <td>E</td>\n",
       "      <td>SI2</td>\n",
       "      <td>61.5</td>\n",
       "      <td>55.0</td>\n",
       "      <td>326</td>\n",
       "      <td>3.95</td>\n",
       "      <td>3.98</td>\n",
       "      <td>2.43</td>\n",
       "    </tr>\n",
       "    <tr>\n",
       "      <th>1</th>\n",
       "      <td>2</td>\n",
       "      <td>0.21</td>\n",
       "      <td>Premium</td>\n",
       "      <td>E</td>\n",
       "      <td>SI1</td>\n",
       "      <td>59.8</td>\n",
       "      <td>61.0</td>\n",
       "      <td>326</td>\n",
       "      <td>3.89</td>\n",
       "      <td>3.84</td>\n",
       "      <td>2.31</td>\n",
       "    </tr>\n",
       "    <tr>\n",
       "      <th>2</th>\n",
       "      <td>3</td>\n",
       "      <td>0.23</td>\n",
       "      <td>Good</td>\n",
       "      <td>E</td>\n",
       "      <td>VS1</td>\n",
       "      <td>56.9</td>\n",
       "      <td>65.0</td>\n",
       "      <td>327</td>\n",
       "      <td>4.05</td>\n",
       "      <td>4.07</td>\n",
       "      <td>2.31</td>\n",
       "    </tr>\n",
       "    <tr>\n",
       "      <th>3</th>\n",
       "      <td>4</td>\n",
       "      <td>0.29</td>\n",
       "      <td>Premium</td>\n",
       "      <td>I</td>\n",
       "      <td>VS2</td>\n",
       "      <td>62.4</td>\n",
       "      <td>58.0</td>\n",
       "      <td>334</td>\n",
       "      <td>4.20</td>\n",
       "      <td>4.23</td>\n",
       "      <td>2.63</td>\n",
       "    </tr>\n",
       "    <tr>\n",
       "      <th>4</th>\n",
       "      <td>5</td>\n",
       "      <td>0.31</td>\n",
       "      <td>Good</td>\n",
       "      <td>J</td>\n",
       "      <td>SI2</td>\n",
       "      <td>63.3</td>\n",
       "      <td>58.0</td>\n",
       "      <td>335</td>\n",
       "      <td>4.34</td>\n",
       "      <td>4.35</td>\n",
       "      <td>2.75</td>\n",
       "    </tr>\n",
       "    <tr>\n",
       "      <th>...</th>\n",
       "      <td>...</td>\n",
       "      <td>...</td>\n",
       "      <td>...</td>\n",
       "      <td>...</td>\n",
       "      <td>...</td>\n",
       "      <td>...</td>\n",
       "      <td>...</td>\n",
       "      <td>...</td>\n",
       "      <td>...</td>\n",
       "      <td>...</td>\n",
       "      <td>...</td>\n",
       "    </tr>\n",
       "    <tr>\n",
       "      <th>53935</th>\n",
       "      <td>53936</td>\n",
       "      <td>0.72</td>\n",
       "      <td>Ideal</td>\n",
       "      <td>D</td>\n",
       "      <td>SI1</td>\n",
       "      <td>60.8</td>\n",
       "      <td>57.0</td>\n",
       "      <td>2757</td>\n",
       "      <td>5.75</td>\n",
       "      <td>5.76</td>\n",
       "      <td>3.50</td>\n",
       "    </tr>\n",
       "    <tr>\n",
       "      <th>53936</th>\n",
       "      <td>53937</td>\n",
       "      <td>0.72</td>\n",
       "      <td>Good</td>\n",
       "      <td>D</td>\n",
       "      <td>SI1</td>\n",
       "      <td>63.1</td>\n",
       "      <td>55.0</td>\n",
       "      <td>2757</td>\n",
       "      <td>5.69</td>\n",
       "      <td>5.75</td>\n",
       "      <td>3.61</td>\n",
       "    </tr>\n",
       "    <tr>\n",
       "      <th>53937</th>\n",
       "      <td>53938</td>\n",
       "      <td>0.70</td>\n",
       "      <td>Very Good</td>\n",
       "      <td>D</td>\n",
       "      <td>SI1</td>\n",
       "      <td>62.8</td>\n",
       "      <td>60.0</td>\n",
       "      <td>2757</td>\n",
       "      <td>5.66</td>\n",
       "      <td>5.68</td>\n",
       "      <td>3.56</td>\n",
       "    </tr>\n",
       "    <tr>\n",
       "      <th>53938</th>\n",
       "      <td>53939</td>\n",
       "      <td>0.86</td>\n",
       "      <td>Premium</td>\n",
       "      <td>H</td>\n",
       "      <td>SI2</td>\n",
       "      <td>61.0</td>\n",
       "      <td>58.0</td>\n",
       "      <td>2757</td>\n",
       "      <td>6.15</td>\n",
       "      <td>6.12</td>\n",
       "      <td>3.74</td>\n",
       "    </tr>\n",
       "    <tr>\n",
       "      <th>53939</th>\n",
       "      <td>53940</td>\n",
       "      <td>0.75</td>\n",
       "      <td>Ideal</td>\n",
       "      <td>D</td>\n",
       "      <td>SI2</td>\n",
       "      <td>62.2</td>\n",
       "      <td>55.0</td>\n",
       "      <td>2757</td>\n",
       "      <td>5.83</td>\n",
       "      <td>5.87</td>\n",
       "      <td>3.64</td>\n",
       "    </tr>\n",
       "  </tbody>\n",
       "</table>\n",
       "<p>53940 rows × 11 columns</p>\n",
       "</div>"
      ],
      "text/plain": [
       "       Unnamed: 0  carat        cut color clarity  depth  table  price     x  \\\n",
       "0               1   0.23      Ideal     E     SI2   61.5   55.0    326  3.95   \n",
       "1               2   0.21    Premium     E     SI1   59.8   61.0    326  3.89   \n",
       "2               3   0.23       Good     E     VS1   56.9   65.0    327  4.05   \n",
       "3               4   0.29    Premium     I     VS2   62.4   58.0    334  4.20   \n",
       "4               5   0.31       Good     J     SI2   63.3   58.0    335  4.34   \n",
       "...           ...    ...        ...   ...     ...    ...    ...    ...   ...   \n",
       "53935       53936   0.72      Ideal     D     SI1   60.8   57.0   2757  5.75   \n",
       "53936       53937   0.72       Good     D     SI1   63.1   55.0   2757  5.69   \n",
       "53937       53938   0.70  Very Good     D     SI1   62.8   60.0   2757  5.66   \n",
       "53938       53939   0.86    Premium     H     SI2   61.0   58.0   2757  6.15   \n",
       "53939       53940   0.75      Ideal     D     SI2   62.2   55.0   2757  5.83   \n",
       "\n",
       "          y     z  \n",
       "0      3.98  2.43  \n",
       "1      3.84  2.31  \n",
       "2      4.07  2.31  \n",
       "3      4.23  2.63  \n",
       "4      4.35  2.75  \n",
       "...     ...   ...  \n",
       "53935  5.76  3.50  \n",
       "53936  5.75  3.61  \n",
       "53937  5.68  3.56  \n",
       "53938  6.12  3.74  \n",
       "53939  5.87  3.64  \n",
       "\n",
       "[53940 rows x 11 columns]"
      ]
     },
     "execution_count": 51,
     "metadata": {},
     "output_type": "execute_result"
    }
   ],
   "source": [
    "file"
   ]
  },
  {
   "cell_type": "raw",
   "metadata": {},
   "source": [
    "The diamonds dataset"
   ]
  },
  {
   "cell_type": "code",
   "execution_count": 52,
   "metadata": {},
   "outputs": [],
   "source": [
    "from plotnine import *"
   ]
  },
  {
   "cell_type": "code",
   "execution_count": 53,
   "metadata": {},
   "outputs": [
    {
     "data": {
      "image/png": "[encoded data removed]",
      "text/plain": [
       "<Figure size 640x480 with 1 Axes>"
      ]
     },
     "metadata": {},
     "output_type": "display_data"
    },
    {
     "data": {
      "text/plain": [
       "<ggplot: (8793531597369)>"
      ]
     },
     "execution_count": 53,
     "metadata": {},
     "output_type": "execute_result"
    }
   ],
   "source": [
    "(ggplot(file, aes(file['price'], file['carat']))\n",
    "+ geom_point() \n",
    "+ geom_smooth(method='lm')\n",
    ")"
   ]
  },
  {
   "cell_type": "code",
   "execution_count": 54,
   "metadata": {
    "scrolled": true
   },
   "outputs": [
    {
     "data": {
      "image/png": "[encoded data removed]",
      "text/plain": [
       "<Figure size 640x480 with 1 Axes>"
      ]
     },
     "metadata": {},
     "output_type": "display_data"
    },
    {
     "data": {
      "text/plain": [
       "<ggplot: (8793530650716)>"
      ]
     },
     "execution_count": 54,
     "metadata": {},
     "output_type": "execute_result"
    }
   ],
   "source": [
    "(ggplot(file, aes(np.log(file['price']), np.log(file['carat'])))\n",
    "+ geom_point() \n",
    "+ geom_smooth(method='lm')\n",
    ")"
   ]
  },
  {
   "cell_type": "code",
   "execution_count": 55,
   "metadata": {
    "scrolled": true
   },
   "outputs": [
    {
     "data": {
      "image/png": "[encoded data removed]",
      "text/plain": [
       "<Figure size 640x480 with 1 Axes>"
      ]
     },
     "metadata": {},
     "output_type": "display_data"
    },
    {
     "data": {
      "text/plain": [
       "<ggplot: (8793531425032)>"
      ]
     },
     "execution_count": 55,
     "metadata": {},
     "output_type": "execute_result"
    }
   ],
   "source": [
    "(ggplot(file, aes(stats.zscore(np.log(file['price'])), stats.zscore(np.log(file['carat']))))\n",
    "+ geom_point() \n",
    "+ geom_smooth(method='lm')\n",
    ")"
   ]
  },
  {
   "cell_type": "raw",
   "metadata": {},
   "source": [
    "Observe que existe ainda uma concentração de dados fora do range [-1,1]. Era para estar mais suave fora desse intervalo, pois estes dados representariam as caudas do \"sino\" da normal."
   ]
  },
  {
   "cell_type": "code",
   "execution_count": 56,
   "metadata": {
    "scrolled": true
   },
   "outputs": [
    {
     "data": {
      "text/plain": [
       "770"
      ]
     },
     "execution_count": 56,
     "metadata": {},
     "output_type": "execute_result"
    }
   ],
   "source": [
    "k = int(math.sqrt( file.size ))\n",
    "k"
   ]
  },
  {
   "cell_type": "code",
   "execution_count": 57,
   "metadata": {},
   "outputs": [
    {
     "data": {
      "text/plain": [
       "21"
      ]
     },
     "execution_count": 57,
     "metadata": {},
     "output_type": "execute_result"
    }
   ],
   "source": [
    "k = math.ceil(1 + 3.3 * math.log10( file.size ))\n",
    "k"
   ]
  },
  {
   "cell_type": "code",
   "execution_count": 58,
   "metadata": {
    "scrolled": true
   },
   "outputs": [
    {
     "data": {
      "text/plain": [
       "(array([17608.,  7170.,  5438.,  3711.,  4170.,  3237.,  2257.,  1748.,\n",
       "         1325.,  1136.,   934.,   826.,   754.,   624.,   558.,   513.,\n",
       "          435.,   421.,   392.,   354.,   329.]),\n",
       " array([  326.        ,  1206.80952381,  2087.61904762,  2968.42857143,\n",
       "         3849.23809524,  4730.04761905,  5610.85714286,  6491.66666667,\n",
       "         7372.47619048,  8253.28571429,  9134.0952381 , 10014.9047619 ,\n",
       "        10895.71428571, 11776.52380952, 12657.33333333, 13538.14285714,\n",
       "        14418.95238095, 15299.76190476, 16180.57142857, 17061.38095238,\n",
       "        17942.19047619, 18823.        ]),\n",
       " <BarContainer object of 21 artists>)"
      ]
     },
     "execution_count": 58,
     "metadata": {},
     "output_type": "execute_result"
    },
    {
     "data": {
      "image/png": "[encoded data removed]",
      "text/plain": [
       "<Figure size 432x288 with 1 Axes>"
      ]
     },
     "metadata": {},
     "output_type": "display_data"
    }
   ],
   "source": [
    "plt.hist(file['price'], bins=k) "
   ]
  },
  {
   "cell_type": "code",
   "execution_count": 59,
   "metadata": {
    "scrolled": true
   },
   "outputs": [
    {
     "data": {
      "text/plain": [
       "(array([ 234., 1135., 2296., 3449., 4222., 3897., 2968., 1809., 3098.,\n",
       "        2664., 3085., 2853., 2915., 4074., 3442., 2825., 2246., 2023.,\n",
       "        1797., 1517., 1391.]),\n",
       " array([5.78689738, 5.98003726, 6.17317714, 6.36631701, 6.55945689,\n",
       "        6.75259677, 6.94573665, 7.13887652, 7.3320164 , 7.52515628,\n",
       "        7.71829615, 7.91143603, 8.10457591, 8.29771579, 8.49085566,\n",
       "        8.68399554, 8.87713542, 9.0702753 , 9.26341517, 9.45655505,\n",
       "        9.64969493, 9.84283481]),\n",
       " <BarContainer object of 21 artists>)"
      ]
     },
     "execution_count": 59,
     "metadata": {},
     "output_type": "execute_result"
    },
    {
     "data": {
      "image/png": "[encoded data removed]",
      "text/plain": [
       "<Figure size 432x288 with 1 Axes>"
      ]
     },
     "metadata": {},
     "output_type": "display_data"
    }
   ],
   "source": [
    "plt.hist(np.log(file['price']), bins=k) "
   ]
  },
  {
   "cell_type": "code",
   "execution_count": 60,
   "metadata": {},
   "outputs": [
    {
     "data": {
      "text/plain": [
       "(array([1.6479e+04, 8.5550e+03, 7.0620e+03, 1.0660e+04, 4.4900e+03,\n",
       "        3.1730e+03, 1.2470e+03, 1.1240e+03, 8.0000e+02, 2.0700e+02,\n",
       "        9.2000e+01, 1.1000e+01, 2.7000e+01, 3.0000e+00, 2.0000e+00,\n",
       "        2.0000e+00, 3.0000e+00, 1.0000e+00, 1.0000e+00, 0.0000e+00,\n",
       "        1.0000e+00]),\n",
       " array([0.2       , 0.42904762, 0.65809524, 0.88714286, 1.11619048,\n",
       "        1.3452381 , 1.57428571, 1.80333333, 2.03238095, 2.26142857,\n",
       "        2.49047619, 2.71952381, 2.94857143, 3.17761905, 3.40666667,\n",
       "        3.63571429, 3.8647619 , 4.09380952, 4.32285714, 4.55190476,\n",
       "        4.78095238, 5.01      ]),\n",
       " <BarContainer object of 21 artists>)"
      ]
     },
     "execution_count": 60,
     "metadata": {},
     "output_type": "execute_result"
    },
    {
     "data": {
      "image/png": "[encoded data removed]",
      "text/plain": [
       "<Figure size 432x288 with 1 Axes>"
      ]
     },
     "metadata": {},
     "output_type": "display_data"
    }
   ],
   "source": [
    "plt.hist(file['carat'], bins=k) "
   ]
  },
  {
   "cell_type": "code",
   "execution_count": 61,
   "metadata": {
    "scrolled": true
   },
   "outputs": [
    {
     "data": {
      "text/plain": [
       "(array([3.190e+02, 9.520e+02, 5.181e+03, 5.178e+03, 5.337e+03, 1.965e+03,\n",
       "        5.006e+03, 1.217e+03, 5.972e+03, 3.271e+03, 7.485e+03, 4.377e+03,\n",
       "        1.406e+03, 3.708e+03, 4.120e+02, 1.903e+03, 2.000e+02, 3.800e+01,\n",
       "        7.000e+00, 4.000e+00, 2.000e+00]),\n",
       " array([-1.60943791, -1.45606297, -1.30268802, -1.14931308, -0.99593814,\n",
       "        -0.84256319, -0.68918825, -0.5358133 , -0.38243836, -0.22906341,\n",
       "        -0.07568847,  0.07768647,  0.23106142,  0.38443636,  0.53781131,\n",
       "         0.69118625,  0.84456119,  0.99793614,  1.15131108,  1.30468603,\n",
       "         1.45806097,  1.61143592]),\n",
       " <BarContainer object of 21 artists>)"
      ]
     },
     "execution_count": 61,
     "metadata": {},
     "output_type": "execute_result"
    },
    {
     "data": {
      "image/png": "[encoded data removed]",
      "text/plain": [
       "<Figure size 432x288 with 1 Axes>"
      ]
     },
     "metadata": {},
     "output_type": "display_data"
    }
   ],
   "source": [
    "plt.hist(np.log(file['carat']), bins=k) "
   ]
  },
  {
   "cell_type": "raw",
   "metadata": {},
   "source": [
    "O ponto principal é não fornecer para o treinamento do modelo dados que seguem uma distribuição \"cauda longa\", pois isso poderia afetar o aprendizado. Fornecer dados com uma distribuição mais próxima da normal pode ajudar no aprendizado do modelo."
   ]
  },
  {
   "cell_type": "code",
   "execution_count": null,
   "metadata": {},
   "outputs": [],
   "source": []
  }
 ],
 "metadata": {
  "kernelspec": {
   "display_name": "Python 3",
   "language": "python",
   "name": "python3"
  },
  "language_info": {
   "codemirror_mode": {
    "name": "ipython",
    "version": 3
   },
   "file_extension": ".py",
   "mimetype": "text/x-python",
   "name": "python",
   "nbconvert_exporter": "python",
   "pygments_lexer": "ipython3",
   "version": "3.8.5"
  }
 },
 "nbformat": 4,
 "nbformat_minor": 2
}
